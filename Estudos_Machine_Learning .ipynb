{
 "cells": [
  {
   "cell_type": "markdown",
   "metadata": {},
   "source": [
    "<hr></hr>\n",
    "<H1  align= \"center\"><b>💻 MACHINE LEARNING 💻</b></H1>\n",
    " <H2 align= \"center\"><b>👨‍💻 Notebook de estudos de Machine Learning com Python by Eliohan Y. Poiati 👨‍💻</H2></b> \n",
    " <br>\n",
    "\n",
    "<h2 align= \"center\">Este notebook abordará sobre a tarefa de classificação da aprendizagem de máquina.</h2>\n",
    "\n",
    "<h1 align=\"center\"><font color=\"#ff5906\"\n",
    "><b>CLASSIFICAÇÃO: </b></h1></font>\n",
    "\n",
    "<H3 align= \"center\">🔸 1. Pré-processamento e preparação de bases de dados para classificação🔸</H3>\n",
    "<H3 align= \"center\">🔸 2. Aprendizagem bayesiana (algoritmo Naive Bayes). 🔸</H3>\n",
    "<H3 align= \"center\">🔸 3. Aprendizagem por árvores de decisão (algoritmo básico de árvores e Random Forest). 🔸</H3>\n",
    "<H3 align= \"center\">🔸 4. Aprendizagem por regras. 🔸</H3>\n",
    "<H3 align= \"center\">🔸 5. Aprendizagem baseada em instâncias (algoritmo kNN). 🔸</H3>\n",
    "<H3 align= \"center\">🔸 6. Regressão logística. 🔸</H3>\n",
    "<H3 align= \"center\">🔸 7. Máquinas de vetores de suporte (SVM).🔸</H3>\n",
    "<H3 align= \"center\">🔸 8. Redes neurais artificiais. 🔸</H3>\n",
    "<H3 align= \"center\">🔸 9. Avaliação de algoritmos de classificação. 🔸</H3>\n",
    "<H3 align= \"center\">🔸 10. Combinação e rejeição de classificadores. 🔸</H3>\n",
    "<br>"
   ]
  },
  {
   "cell_type": "code",
   "execution_count": null,
   "metadata": {},
   "outputs": [],
   "source": [
    "# INSTALAÇÃO DAS BIBLIOTECAS\n",
    "!pip install pandas seaborn matplotlib numpy plotly yellowbrick"
   ]
  },
  {
   "cell_type": "code",
   "execution_count": null,
   "metadata": {},
   "outputs": [],
   "source": [
    "# IMPORT DAS BIBLIOTECAS\n",
    "import pandas as pd\n",
    "import numpy as np\n",
    "import seaborn as sns\n",
    "import matplotlib.pyplot as plt\n",
    "import plotly.express as px"
   ]
  },
  {
   "cell_type": "markdown",
   "metadata": {},
   "source": [
    "<h2> 🔧 1. Pré-Processamento de Dados com Pandas e Scikit-Learn 🔧</h2>\n",
    "<h3>🔸 O pré processamento serve para voce deixar as base de dados consistente para o machine learning</h3>\n",
    "<h3>🔸 Serão usados uma base de dados de Crédito e Censo</h3>\n",
    "<h3>🔸 Para o préprocessamento utilizaremos valores inconsistentes e valores faltantes em nossa base para simular o maximo possivel os dados da vida real</h3>\n",
    "<h3>🔸 Trabalharemos com escalonamento de atributos para deixar os valores numericos na mesma escala e tambem trabalharemos com transformação de variaveis categoricas </h3>\n",
    "<h3>🔸 E para finalizar o modulo darei uma introdução de como avaliar o algoritmo e como separar base de treino e base de teste</h3>\n",
    "<h3>🔸 No PANDAS iremos usar varios recursos como: Localizar, remover linhas e colunas, alterar valores... </h3> "
   ]
  },
  {
   "cell_type": "markdown",
   "metadata": {},
   "source": []
  }
 ],
 "metadata": {
  "kernelspec": {
   "display_name": "Python 3",
   "language": "python",
   "name": "python3"
  },
  "language_info": {
   "codemirror_mode": {
    "name": "ipython",
    "version": 3
   },
   "file_extension": ".py",
   "mimetype": "text/x-python",
   "name": "python",
   "nbconvert_exporter": "python",
   "pygments_lexer": "ipython3",
   "version": "3.7.10"
  }
 },
 "nbformat": 4,
 "nbformat_minor": 4
}
